{
 "cells": [
  {
   "cell_type": "code",
   "execution_count": null,
   "metadata": {},
   "outputs": [],
   "source": [
    "# Dependencies\n",
    "import csv\n",
    "import matplotlib.pyplot as plt\n",
    "import requests\n",
    "import pandas as pd\n"
   ]
  },
  {
   "cell_type": "code",
   "execution_count": null,
   "metadata": {},
   "outputs": [],
   "source": [
    "data_df = pd.read_csv(\"NationalData.csv\")\n",
    "data_df = data_df.drop('Unnamed: 2', axis=1)\n",
    "data_df = data_df.dropna()\n",
    "data_df.tail()\n"
   ]
  },
  {
   "cell_type": "markdown",
   "metadata": {},
   "source": [
    "# Data for 4 states: Minnesota,Washington, California, Massachusetts "
   ]
  },
  {
   "cell_type": "code",
   "execution_count": null,
   "metadata": {},
   "outputs": [],
   "source": [
    "data1_df = pd.read_csv(\"4statesData.csv\")\n",
    "data1_df = data1_df.dropna()\n",
    "data1_df.head()"
   ]
  },
  {
   "cell_type": "markdown",
   "metadata": {},
   "source": [
    "# Data for Minnesota"
   ]
  },
  {
   "cell_type": "code",
   "execution_count": null,
   "metadata": {},
   "outputs": [],
   "source": [
    "data3_df = pd.read_csv(\"MunnesotaData.csv\")\n",
    "data3_df = data3_df.dropna()\n",
    "data3_df.head()"
   ]
  },
  {
   "cell_type": "markdown",
   "metadata": {},
   "source": [
    "# Federal Student Loan Portfolio by Borrower Age.csv"
   ]
  },
  {
   "cell_type": "code",
   "execution_count": null,
   "metadata": {},
   "outputs": [],
   "source": [
    "data4_df = pd.read_csv(\"Portfolio-by-Age-Debt-Size (1).csv\") \n",
    "data4_df.head()\n",
    "\n",
    "data4_df.rename(columns = {'24 or Younger':'24 or Younger Dollars Outstanding (in billions)',\n",
    "                              '24 - Younger':'24 or Younger Barrowers(#)(in millions)',\n",
    "                              '25 to 34' : '25 to 34 Dollars Outstanding(in billions)',\n",
    "                              '25 - 34' : '25 to 34 Younger Barrowers(#)(in millions)',\n",
    "                              '35 to 49' : '35 to 49 Dollars Outstanding(in billions)',\n",
    "                              '35 - 49' : '35 to 49 Younger Barrowers(#)(in millions)',\n",
    "                              '50 to 61' : '50 to 61 Dollars Outstanding(in billions)',\n",
    "                              '50 -61' : '50 to 61 Younger Barrowers(#)(in millions)',\n",
    "                              '62 and Older' : '62+ Dollars Outstanding(in billions)',\n",
    "                              '62 - Older' : '62+ Younger Barrowers(#)(in millions)'\n",
    "                              }, inplace = True)\n",
    "data4_df = data4_df.drop(data4_df.index[0])\n",
    "data4_df.tail()"
   ]
  },
  {
   "cell_type": "markdown",
   "metadata": {},
   "source": [
    "# Portfolio-by-Location-by-Age.csv"
   ]
  },
  {
   "cell_type": "code",
   "execution_count": null,
   "metadata": {},
   "outputs": [],
   "source": [
    "data5_df = pd.read_csv(\"Portfolio-by-Location-by-Age.csv\")\n",
    "data5_df.rename(columns = {'24 - Younger':'24 or Younger Dollars Outstanding (in billions)',\n",
    "                              'Unnamed: 2':'24 or Younger Barrowers(#)(in millions)',\n",
    "                              '25 -34' : '25 to 34 Dollars Outstanding(in billions)',\n",
    "                              'Unnamed: 4' : '25 to 34 Barrowers(#)(in millions)',\n",
    "                              '35 - 49' : '35 to 49 Dollars Outstanding(in billions)',\n",
    "                              'Unnamed: 6' : '35 to 49 Barrowers(#)(in millions)',\n",
    "                              '50 -61' : '50 to 61 Dollars Outstanding(in billions)',\n",
    "                              'Unnamed: 8' : '50 to 61 Barrowers(#)(in millions)',\n",
    "                              '62 - Older' : '62+ Dollars Outstanding(in billions)',\n",
    "                              'Unnamed: 10' : '62+  Barrowers(#)(in millions)'\n",
    "                              }, inplace = True)\n",
    "\n",
    "data5_df = data5_df.drop(data5_df.index[0])\n",
    "data5_df.head()\n",
    "data5_df = data5_df.reset_index()\n",
    "data5_df.head()"
   ]
  },
  {
   "cell_type": "code",
   "execution_count": null,
   "metadata": {},
   "outputs": [],
   "source": [
    "data5_df = data5_df[['index','Location','24 or Younger Dollars Outstanding (in billions)','24 or Younger Barrowers(#)(in millions)','25 to 34 Dollars Outstanding(in billions)','25 to 34 Barrowers(#)(in millions)','35 to 49 Dollars Outstanding(in billions)','35 to 49 Younger Barrowers(#)(in millions)','50 to 61 Dollars Outstanding(in billions)','50 to 61 Barrowers(#)(in millions)','62+ Dollars Outstanding(in billions)','62+ Barrowers(#)(in millions)']]"
   ]
  },
  {
   "cell_type": "markdown",
   "metadata": {},
   "source": [
    "# Federal Student Loan Portfolio by Borrower Location"
   ]
  },
  {
   "cell_type": "code",
   "execution_count": null,
   "metadata": {},
   "outputs": [],
   "source": [
    "data7_df = pd.read_csv(\"Portfolio-by-Location.csv\")\n",
    "data7_df.head()"
   ]
  },
  {
   "cell_type": "code",
   "execution_count": null,
   "metadata": {},
   "outputs": [],
   "source": []
  }
 ],
 "metadata": {
  "kernelspec": {
   "display_name": "Python 3",
   "language": "python",
   "name": "python3"
  },
  "language_info": {
   "codemirror_mode": {
    "name": "ipython",
    "version": 3
   },
   "file_extension": ".py",
   "mimetype": "text/x-python",
   "name": "python",
   "nbconvert_exporter": "python",
   "pygments_lexer": "ipython3",
   "version": "3.6.9"
  }
 },
 "nbformat": 4,
 "nbformat_minor": 2
}
